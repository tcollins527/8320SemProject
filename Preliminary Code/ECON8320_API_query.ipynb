{
  "nbformat": 4,
  "nbformat_minor": 0,
  "metadata": {
    "colab": {
      "provenance": []
    },
    "kernelspec": {
      "name": "python3",
      "display_name": "Python 3"
    },
    "language_info": {
      "name": "python"
    }
  },
  "cells": [
    {
      "cell_type": "code",
      "source": [
        "import requests\n",
        "import json\n",
        "import pandas as pd"
      ],
      "metadata": {
        "id": "NvxLwMMQNtdU"
      },
      "execution_count": 4,
      "outputs": []
    },
    {
      "cell_type": "markdown",
      "source": [
        "\n",
        "\n",
        "*   API queries below\n",
        "*   api_key and file path are both placeholders, input your key & path\n",
        "*   2010-2023 and 2024 queries are seperated because the variable name for MBS area, region, and state code changes.\n",
        "\n"
      ],
      "metadata": {
        "id": "xQgkVcZ9X7T9"
      }
    },
    {
      "cell_type": "code",
      "source": [
        "# Define API key and base URL\n",
        "api_key = \"0cbe74e555fe4b3dac32591deacb7248f4dafae0\"\n",
        "base_url = \"https://api.census.gov/data\"\n",
        "\n",
        "# Define variables of interest 2010-2023\n",
        "variables = [\n",
        "    \"GTCBSA\",      # Metropolitan Core Based Statistical Area FIPS Code\n",
        "    \"PELAYFTO\",    # Labor Force-(layoff) from full-time job\n",
        "    \"PELAYDUR\",    # Labor Force-(layoff) # weeks looking for job\n",
        "    \"HEFAMINC\",    # Household-total family income\n",
        "    \"PESEX\",       # Demographics-sex\n",
        "    \"PTDTRACE\",    # Demographics-race\n",
        "    \"PEEDUCA\",     # Demographics-highest level of school completed\n",
        "    \"PEMARITL\",    # Demographics-marital status\n",
        "    \"HRHTYPE\",     # Household-type of family/single individual\n",
        "    \"HRNUMHOU\",    # Household-total # of members\n",
        "    \"GEREG\",       # REGION\n",
        "    \"GESTFIPS\"     # FIPS STATE Code\n",
        "]\n",
        "\n",
        "# Define year range (2010-2023)\n",
        "years = range(2010, 2024)\n",
        "\n",
        "# Define months\n",
        "months = ['jan', 'feb', 'mar', 'apr', 'may', 'jun', 'jul', 'aug', 'sep', 'oct', 'nov', 'dec']\n",
        "\n",
        "# Query data 2010-2023\n",
        "for year in years:\n",
        "    for month in months:\n",
        "        # Construct the API request URL for each year in year range, month in month range\n",
        "        url = f\"{base_url}/{year}/cps/basic/{month}?get={','.join(variables)}&for=state:*&key={api_key}\"\n",
        "\n",
        "        # Query data from Census API\n",
        "        response = requests.get(url)\n",
        "\n",
        "        # Confirm that the query was successful\n",
        "        if response.status_code == 200:\n",
        "            # Convert response to DataFrame\n",
        "            data = response.json()\n",
        "            df = pd.DataFrame(data[1:], columns=data[0])\n",
        "            df.to_csv(f\"/content/test/cps_data_{year}_{month}.csv\")\n",
        "            print(f\"Data for {year}, {month} fetched\")\n",
        "        else:\n",
        "            print(f\"Failed to retrieve data for {year}, {month}: {response.status_code}\")"
      ],
      "metadata": {
        "id": "OFLh6JJ9W9Qn"
      },
      "execution_count": null,
      "outputs": []
    },
    {
      "cell_type": "code",
      "source": [
        "# Define varibles of interest for 2024\n",
        "variables_2024 = [\n",
        "    \"CBSA\",         # Metropolitan Core Based Statistical Area FIPS Code\n",
        "    \"PELAYFTO\",     # Labor Force-(layoff) from full-time job\n",
        "    \"PELAYDUR\",     # Labor Force-(layoff) # weeks looking for job\n",
        "    \"HEFAMINC\",     # Household-total family income\n",
        "    \"PESEX\",        # Demographics-sex\n",
        "    \"PTDTRACE\",     # Demographics-race\n",
        "    \"PEEDUCA\",      # Demographics-highest level of school completed\n",
        "    \"PEMARITL\",     # Demographics-marital status\n",
        "    \"HRHTYPE\",      # Household-type of family/single individual\n",
        "    \"HRNUMHOU\",     # Household-total # of members\n",
        "    \"REGION\",       # REGION\n",
        "    \"STATE\"         # FIPS STATE Code\n",
        "]\n",
        "\n",
        "# Define months for 2024\n",
        "months_2024 = ['jan', 'feb', 'mar']\n",
        "\n",
        "# Query data for 2024\n",
        "for month in months_2024:\n",
        "    # Construct the API request URL for each months in the 2024 month range\n",
        "    url_2024 = f\"{base_url}/2024/cps/basic/{month}?get={','.join(variables_2024)}&for=state:*&key={api_key}\"\n",
        "\n",
        "    # Query data from Census API\n",
        "    response_2024 = requests.get(url_2024)\n",
        "\n",
        "    # Confirm that the query was successful\n",
        "    if response_2024.status_code == 200:\n",
        "        # Convert response to DataFrame\n",
        "        data_2024 = response_2024.json()\n",
        "        df_2024 = pd.DataFrame(data_2024[1:], columns=data_2024[0])\n",
        "\n",
        "        # Rename DF column headings to match the bulk of the data\n",
        "        df_2024.rename(columns={\"CBSA\": \"GTCBSA\", \"REGION\": \"GEREG\", \"STATS\": \"GESTFIPS\"}, inplace=True)\n",
        "        df.to_csv(f\"/content/drive/MyDrive/CPSDataYEARmo/cps_data_2024_{month}.csv\")\n",
        "        print(f\"Data for 2024, {month} fetched\")\n",
        "    else:\n",
        "        print(f\"Failed to retrieve data for 2024, {month}: {response_2024.status_code}\")"
      ],
      "metadata": {
        "id": "eCIdPfy1C2fH"
      },
      "execution_count": null,
      "outputs": []
    },
    {
      "cell_type": "markdown",
      "source": [
        "Ideally, one could directly send the query outputs to a dataframe and work with just the one file, but I was having issues w/ virtual machine memory. See below to merge each downloaded csv from your filepath into one dataframe."
      ],
      "metadata": {
        "id": "RWAsjpkSe5Lz"
      }
    },
    {
      "cell_type": "code",
      "source": [
        "import re\n",
        "\n",
        "# Redefine years, months & MTD 2024\n",
        "years = range(2010, 2024)\n",
        "months = ['jan', 'feb', 'mar', 'apr', 'may', 'jun', 'jul', 'aug', 'sep', 'oct', 'nov', 'dec']\n",
        "months_2024 = ['jan', 'feb', 'mar']\n",
        "\n",
        "# Empty placeholder list to store file paths\n",
        "file_paths = []\n",
        "\n",
        "# Generate each file path name & input to a list\n",
        "for year in years:\n",
        "    for month in months:\n",
        "        file_paths.append(f\"/content/drive/MyDrive/CPSDataYEARmo/cps_data_{year}_{month}.csv\")\n",
        "\n",
        "for month in months_2024:\n",
        "  file_paths.append(f\"/content/drive/MyDrive/CPSDataYEARmo/cps_data_2024_{month}.csv\")\n",
        "\n",
        "# Empty placeholder list to list of dfs for each csv queried\n",
        "dfs = []\n",
        "\n",
        "for file_path in file_paths:\n",
        "    # Read each csv file into a df\n",
        "    df = pd.read_csv(file_path)\n",
        "\n",
        "    # Use regex to extract the year and month for each csv file path to differentiate in the final list of dfs\n",
        "    match = re.search(r'\\d{4}_(\\w+).csv', file_path)\n",
        "    if match:\n",
        "        month = match.group(1)\n",
        "        year = file_path.split('_')[2]\n",
        "\n",
        "        # Add a new column 'month_year' with the format 'Mon-YEAR'\n",
        "        df['month_year'] = f\"{month.capitalize()}-{year}\"\n",
        "\n",
        "        # Store the generated df into the dfs list & loop\n",
        "        dfs.append(df)\n",
        "\n",
        "# Concatenate the list of dfs into one dataframe\n",
        "combined_df = pd.concat(dfs, ignore_index=True)\n",
        "\n",
        "# Download the combined dataframe\n",
        "combined_df.to_csv(\"/content/drive/MyDrive/CombinedCPSData/comb_cps_data.csv\")"
      ],
      "metadata": {
        "id": "vFo3fuAOZ4V-"
      },
      "execution_count": 22,
      "outputs": []
    }
  ]
}